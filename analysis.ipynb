{
 "cells": [
  {
   "cell_type": "markdown",
   "metadata": {},
   "source": [
    "# U.S. Bureau of Labor Statistics\n",
    "## Current Employment Statistics - CES (National)\n",
    "### Employment & Unemployment\n",
    "\n",
    "\t                      1         2\n",
    "\t             12345678901234567890\n",
    "\tSeries ID    CEU0800000003\n",
    "\tPositions       Value           Field Name\n",
    "\t1-2             CE              Prefix\n",
    "\t3               U               Seasonal Adjustment Code\n",
    "\t4-11\t\t08000000\tSupersector and Industry Codes\n",
    "\t12-13           03              Data Type Code\n",
    "\n",
    "\n",
    "| seasonal_code\t| seasonal_text |\n",
    "|---------------|---------------|\n",
    "| S\t| Seasonally Adjusted |\n",
    "| U\t| Not Seasonally Adjusted |\n",
    "\n",
    "<br>\n",
    "\n",
    "| supersector_code\t| supersector_name |\n",
    "|-------------------|------------------|\n",
    "| 00\t| Total nonfarm |\n",
    "| 05\t| Total private |\n",
    "| 06\t| Goods-producing |\n",
    "| 07 |\tService-providing |\n",
    "| 08 |\tPrivate service-providing |\n",
    "| 10 |\tMining and logging |\n",
    "| 20 |\tConstruction |\n",
    "| 30 |\tManufacturing |\n",
    "| 31 |\tDurable Goods |\n",
    "| 32 |\tNondurable Goods |\n",
    "| 40 |\tTrade, transportation, and utilities |\n",
    "| 41 |\tWholesale trade |\n",
    "| 42 |\tRetail trade |\n",
    "| 43 |\tTransportation and warehousing |\n",
    "| 44 |\tUtilities |\n",
    "| 50 |\tInformation |\n",
    "| 55 |\tFinancial activities |\n",
    "| 60 |\tProfessional and business services |\n",
    "| 65 |\tPrivate education and health services |\n",
    "| 70 |\tLeisure and hospitality |\n",
    "| 80 |\tOther services |\n",
    "| 90 |\tGovernment |\n",
    "\n",
    "<br>\n",
    "\n",
    "| data_type_code |\tdata_type_text |\n",
    "|----------------|-----------------|\n",
    "| 01 |\tALL EMPLOYEES, THOUSANDS |\n",
    "| 02 |\tAVERAGE WEEKLY HOURS OF ALL EMPLOYEES |\n",
    "| 03 |\tAVERAGE HOURLY EARNINGS OF ALL EMPLOYEES |\n",
    "| 04 |\tAVERAGE WEEKLY OVERTIME HOURS OF ALL EMPLOYEES |\n",
    "| 06 |\tPRODUCTION AND NONSUPERVISORY EMPLOYEES, THOUSANDS |\n",
    "| 07 |\tAVERAGE WEEKLY HOURS OF PRODUCTION AND NONSUPERVISORY EMPLOYEES |\n",
    "| 08 |\tAVERAGE HOURLY EARNINGS OF PRODUCTION AND NONSUPERVISORY EMPLOYEES |\n",
    "| 09 |\tAVERAGE WEEKLY OVERTIME HOURS OF PRODUCTION AND NONSUPERVISORY EMPLOYEES |\n",
    "| 10 |\tWOMEN EMPLOYEES, THOUSANDS |\n",
    "| 11 |\tAVERAGE WEEKLY EARNINGS OF ALL EMPLOYEES |\n",
    "| 12 |\tAVERAGE WEEKLY EARNINGS OF ALL EMPLOYEES, 1982-1984 DOLLARS |\n",
    "| 13 |\tAVERAGE HOURLY EARNINGS OF ALL EMPLOYEES, 1982-1984 DOLLARS |\n",
    "| 15 |\tAVERAGE HOURLY EARNINGS OF ALL EMPLOYEES, EXCLUDING OVERTIME |\n",
    "| 16 |\tINDEXES OF AGGREGATE WEEKLY HOURS OF ALL EMPLOYEES, 2007=100 |\n",
    "| 17 |\tINDEXES OF AGGREGATE WEEKLY PAYROLLS OF ALL EMPLOYEES, 2007=100 |\n",
    "| 19 |\tAVERAGE WEEKLY HOURS OF ALL EMPLOYEES, QUARTERLY AVERAGES, SEASONALLY ADJUSTED |\n",
    "| 20 |\tAVERAGE WEEKLY OVERTIME HOURS OF ALL EMPLOYEES, QUARTERLY AVERAGES, SEASONALLY ADJUSTED |\n",
    "| 21 |\tDIFFUSION INDEXES, 1-MONTH SPAN, SEASONALLY ADJUSTED |\n",
    "| 22 |\tDIFFUSION INDEXES, 3-MONTH SPAN, SEASONALLY ADJUSTED |\n",
    "| 23 |\tDIFFUSION INDEXES, 6-MONTH SPAN, SEASONALLY ADJUSTED |\n",
    "| 24 |\tDIFFUSION INDEXES, 12-MONTH SPAN, NOT SEASONALLY ADJUSTED |\n",
    "| 25 |\tALL EMPLOYEES, QUARTERLY AVERAGES, SEASONALLY ADJUSTED, THOUSANDS |\n",
    "| 26 |\tALL EMPLOYEES, 3-MONTH AVERAGE CHANGE, SEASONALLY ADJUSTED, THOUSANDS |\n",
    "| 30 |\tAVERAGE WEEKLY EARNINGS OF PRODUCTION AND NONSUPERVISORY EMPLOYEES |\n",
    "| 31 |\tAVERAGE WEEKLY EARNINGS OF PRODUCTION AND NONSUPERVISORY EMPLOYEES, 1982-84 DOLLARS |\n",
    "| 32 |\tAVERAGE HOURLY EARNINGS OF PRODUCTION AND NONSUPERVISORY EMPLOYEES, 1982-84 DOLLARS |\n",
    "| 33 |\tAVERAGE HOURLY EARNINGS OF PRODUCTION AND NONSUPERVISORY EMPLOYEES, EXCLUDING OVERTIME |\n",
    "| 34 |\tINDEXES OF AGGREGATE WEEKLY HOURS OF PRODUCTION AND NONSUPERVISORY EMPLOYEES, 2002=100 |\n",
    "| 35 |\tINDEXES OF AGGREGATE WEEKLY PAYROLLS OF PRODUCTION AND NONSUPERVISORY EMPLOYEES, 2002=100 |\n",
    "| 36 |\tAVERAGE WEEKLY HOURS, PRODUCTION/NONSUPERVISORY EMPLOYEES, QUARTERLY AVERAGES, SEASONALLY ADJUSTED |\n",
    "| 37 |\tAVERAGE WEEKLY OVERTIME HOURS,PRODUCTION/NONSUPERVISORY EMPLOYEES,QUARTERLY AVG,SEASONALLY ADJUSTED |\n",
    "| 38 |\tPRODUCTION AND NONSUPERVISORY EMPLOYEES-TO-ALL EMPLOYEES RATIO |\n",
    "| 39 |\tWOMEN EMPLOYEES-TO-ALL EMPLOYEES RATIO |\n",
    "| 56 |\tAGGREGATE WEEKLY HOURS OF ALL EMPLOYEES, THOUSANDS |\n",
    "| 57 |\tAGGREGATE WEEKLY PAYROLLS OF ALL EMPLOYEES, THOUSANDS |\n",
    "| 58 |\tAGGREGATE WEEKLY OVERTIME HOURS OF ALL EMPLOYEES, THOUSANDS |\n",
    "| 81 |\tAGGREGATE WEEKLY HOURS OF PRODUCTION AND NONSUPERVISORY EMPLOYEES, THOUSANDS |\n",
    "| 82 |\tAGGREGATE WEEKLY PAYROLLS OF PRODUCTION AND NONSUPERVISORY EMPLOYEES, THOUSANDS |\n",
    "| 83 |\tAGGREGATE WEEKLY OVERTIME HOURS OF PRODUCTION AND NONSUPERVISORY EMPLOYEES, THOUSANDS |\n",
    "| 86 |\t1-MONTH CONFIDENCE INTERVAL, ALL EMPLOYEES |\n",
    "| 87 |\t3-MONTH CONFIDENCE INTERVAL, ALL EMPLOYEES |\n",
    "| 88 |\t6-MONTH CONFIDENCE INTERVAL, ALL EMPLOYEES |\n",
    "| 89 |\t12-MONTH CONFIDENCE INTERVAL, ALL EMPLOYEES |\n",
    "| 98 |\tCPI-U 1982-84 |\n",
    "| 99 |\tCPI-W 1982-84 |\n",
    "\n",
    "<br>\n",
    "\n",
    "> Links\n",
    "> * [Seasonal Adjustment Code](https://www.bls.gov/help/def/ce.htm#seasonally)\n",
    "> * [Supersector](https://www.bls.gov/help/def/ce.htm#supersector)\n",
    "> * [Industry](https://www.bls.gov/help/def/ce.htm#industry)\n",
    "> * [Data Type](https://www.bls.gov/help/def/ce.htm#datatype)\n",
    "\n",
    "https://www.bls.gov/web/empsit/cesprog.htm\n"
   ]
  },
  {
   "cell_type": "code",
   "execution_count": 101,
   "metadata": {},
   "outputs": [],
   "source": [
    "import requests\n",
    "import json\n",
    "import prettytable\n",
    "import pandas as pd\n",
    "import pprint"
   ]
  },
  {
   "cell_type": "code",
   "execution_count": 102,
   "metadata": {},
   "outputs": [
    {
     "data": {
      "text/html": [
       "<div>\n",
       "<style scoped>\n",
       "    .dataframe tbody tr th:only-of-type {\n",
       "        vertical-align: middle;\n",
       "    }\n",
       "\n",
       "    .dataframe tbody tr th {\n",
       "        vertical-align: top;\n",
       "    }\n",
       "\n",
       "    .dataframe thead th {\n",
       "        text-align: right;\n",
       "    }\n",
       "</style>\n",
       "<table border=\"1\" class=\"dataframe\">\n",
       "  <thead>\n",
       "    <tr style=\"text-align: right;\">\n",
       "      <th></th>\n",
       "      <th>industry_code</th>\n",
       "      <th>naics_code</th>\n",
       "      <th>publishing_status</th>\n",
       "      <th>industry_name</th>\n",
       "      <th>display_level</th>\n",
       "      <th>selectable</th>\n",
       "      <th>sort_sequence</th>\n",
       "    </tr>\n",
       "  </thead>\n",
       "  <tbody>\n",
       "    <tr>\n",
       "      <th>0</th>\n",
       "      <td>0</td>\n",
       "      <td>-</td>\n",
       "      <td>B</td>\n",
       "      <td>Total nonfarm</td>\n",
       "      <td>0</td>\n",
       "      <td>T</td>\n",
       "      <td>1</td>\n",
       "    </tr>\n",
       "    <tr>\n",
       "      <th>1</th>\n",
       "      <td>5000000</td>\n",
       "      <td>-</td>\n",
       "      <td>A</td>\n",
       "      <td>Total private</td>\n",
       "      <td>1</td>\n",
       "      <td>T</td>\n",
       "      <td>2</td>\n",
       "    </tr>\n",
       "    <tr>\n",
       "      <th>2</th>\n",
       "      <td>6000000</td>\n",
       "      <td>-</td>\n",
       "      <td>A</td>\n",
       "      <td>Goods-producing</td>\n",
       "      <td>1</td>\n",
       "      <td>T</td>\n",
       "      <td>3</td>\n",
       "    </tr>\n",
       "    <tr>\n",
       "      <th>3</th>\n",
       "      <td>7000000</td>\n",
       "      <td>-</td>\n",
       "      <td>B</td>\n",
       "      <td>Service-providing</td>\n",
       "      <td>1</td>\n",
       "      <td>T</td>\n",
       "      <td>4</td>\n",
       "    </tr>\n",
       "    <tr>\n",
       "      <th>4</th>\n",
       "      <td>8000000</td>\n",
       "      <td>-</td>\n",
       "      <td>A</td>\n",
       "      <td>Private service-providing</td>\n",
       "      <td>1</td>\n",
       "      <td>T</td>\n",
       "      <td>5</td>\n",
       "    </tr>\n",
       "  </tbody>\n",
       "</table>\n",
       "</div>"
      ],
      "text/plain": [
       "   industry_code naics_code publishing_status              industry_name  \\\n",
       "0              0          -                 B              Total nonfarm   \n",
       "1        5000000          -                 A              Total private   \n",
       "2        6000000          -                 A            Goods-producing   \n",
       "3        7000000          -                 B          Service-providing   \n",
       "4        8000000          -                 A  Private service-providing   \n",
       "\n",
       "   display_level selectable  sort_sequence  \n",
       "0              0          T              1  \n",
       "1              1          T              2  \n",
       "2              1          T              3  \n",
       "3              1          T              4  \n",
       "4              1          T              5  "
      ]
     },
     "execution_count": 102,
     "metadata": {},
     "output_type": "execute_result"
    }
   ],
   "source": [
    "industry_codes = pd.read_csv('data/ce_industry_codes.csv')\n",
    "# industry_codes[industry_codes['industry_code'] == '000000'].head()\n",
    "industry_codes.head()"
   ]
  },
  {
   "cell_type": "code",
   "execution_count": 103,
   "metadata": {},
   "outputs": [
    {
     "data": {
      "text/html": [
       "<div>\n",
       "<style scoped>\n",
       "    .dataframe tbody tr th:only-of-type {\n",
       "        vertical-align: middle;\n",
       "    }\n",
       "\n",
       "    .dataframe tbody tr th {\n",
       "        vertical-align: top;\n",
       "    }\n",
       "\n",
       "    .dataframe thead th {\n",
       "        text-align: right;\n",
       "    }\n",
       "</style>\n",
       "<table border=\"1\" class=\"dataframe\">\n",
       "  <thead>\n",
       "    <tr style=\"text-align: right;\">\n",
       "      <th></th>\n",
       "      <th>industry_code</th>\n",
       "      <th>naics_code</th>\n",
       "      <th>publishing_status</th>\n",
       "      <th>industry_name</th>\n",
       "      <th>display_level</th>\n",
       "      <th>selectable</th>\n",
       "      <th>sort_sequence</th>\n",
       "    </tr>\n",
       "  </thead>\n",
       "  <tbody>\n",
       "    <tr>\n",
       "      <th>478</th>\n",
       "      <td>50513200</td>\n",
       "      <td>5132</td>\n",
       "      <td>A</td>\n",
       "      <td>Software publishers</td>\n",
       "      <td>5</td>\n",
       "      <td>T</td>\n",
       "      <td>479</td>\n",
       "    </tr>\n",
       "  </tbody>\n",
       "</table>\n",
       "</div>"
      ],
      "text/plain": [
       "     industry_code naics_code publishing_status        industry_name  \\\n",
       "478       50513200       5132                 A  Software publishers   \n",
       "\n",
       "     display_level selectable  sort_sequence  \n",
       "478              5          T            479  "
      ]
     },
     "execution_count": 103,
     "metadata": {},
     "output_type": "execute_result"
    }
   ],
   "source": [
    "industry_codes[industry_codes['industry_name'] == 'Software publishers'].head()"
   ]
  },
  {
   "cell_type": "code",
   "execution_count": 104,
   "metadata": {},
   "outputs": [
    {
     "data": {
      "text/plain": [
       "['professional, scientific, and technical services',\n",
       " 'management, scientific, and technical consulting services',\n",
       " 'other scientific and technical consulting services',\n",
       " 'research and development in nanotechnology',\n",
       " 'research and development in biotechnology, except nanobiotechnology',\n",
       " 'research and development in the physical, engineering, and life sciences, except nanotechnology and biotechnology',\n",
       " 'other professional, scientific, and technical services',\n",
       " 'translation, interpretation, and all other professional, scientific, and technical services',\n",
       " 'private technical and trade schools']"
      ]
     },
     "execution_count": 104,
     "metadata": {},
     "output_type": "execute_result"
    }
   ],
   "source": [
    "# create a unique list of industry_name values\n",
    "industry_name_list = industry_codes.industry_name.drop_duplicates().str.lower().to_list()\n",
    "len(industry_name_list)\n",
    "[x for x in industry_name_list if 'tech' in x]"
   ]
  },
  {
   "cell_type": "code",
   "execution_count": 105,
   "metadata": {},
   "outputs": [
    {
     "data": {
      "text/plain": [
       "['computer and computer peripheral equipment and software merchant wholesalers',\n",
       " 'software publishers']"
      ]
     },
     "execution_count": 105,
     "metadata": {},
     "output_type": "execute_result"
    }
   ],
   "source": [
    "[x for x in industry_name_list if 'software' in x]"
   ]
  },
  {
   "cell_type": "code",
   "execution_count": 106,
   "metadata": {},
   "outputs": [
    {
     "data": {
      "text/plain": [
       "['computing infrastructure providers, data processing, web hosting, and related services']"
      ]
     },
     "execution_count": 106,
     "metadata": {},
     "output_type": "execute_result"
    }
   ],
   "source": [
    "[x for x in industry_name_list if 'data' in x]"
   ]
  },
  {
   "cell_type": "code",
   "execution_count": 107,
   "metadata": {},
   "outputs": [
    {
     "data": {
      "text/plain": [
       "['heavy and civil engineering construction',\n",
       " 'other heavy and civil engineering construction',\n",
       " 'veneer, plywood, and engineered wood product manufacturing',\n",
       " 'architectural, engineering, and related services',\n",
       " 'engineering and drafting services',\n",
       " 'research and development in the physical, engineering, and life sciences',\n",
       " 'research and development in the physical, engineering, and life sciences, except nanotechnology and biotechnology']"
      ]
     },
     "execution_count": 107,
     "metadata": {},
     "output_type": "execute_result"
    }
   ],
   "source": [
    "[x for x in industry_name_list if 'engineer' in x]"
   ]
  },
  {
   "cell_type": "code",
   "execution_count": 108,
   "metadata": {},
   "outputs": [
    {
     "data": {
      "text/plain": [
       "['research and development in the physical, engineering, and life sciences',\n",
       " 'research and development in the physical, engineering, and life sciences, except nanotechnology and biotechnology',\n",
       " 'research and development in the social sciences and humanities']"
      ]
     },
     "execution_count": 108,
     "metadata": {},
     "output_type": "execute_result"
    }
   ],
   "source": [
    "[x for x in industry_name_list if 'science' in x]"
   ]
  },
  {
   "cell_type": "code",
   "execution_count": 109,
   "metadata": {},
   "outputs": [
    {
     "data": {
      "text/plain": [
       "['custom computer programming services']"
      ]
     },
     "execution_count": 109,
     "metadata": {},
     "output_type": "execute_result"
    }
   ],
   "source": [
    "[x for x in industry_name_list if 'program' in x]"
   ]
  },
  {
   "cell_type": "code",
   "execution_count": 110,
   "metadata": {},
   "outputs": [
    {
     "data": {
      "text/plain": [
       "['financial activities',\n",
       " 'financial transactions processing, reserve, and clearinghouse activities',\n",
       " 'securities, commodity contracts, funds, trusts, and other financial vehicles, investments, and related activities',\n",
       " 'funds, trusts, and other financial vehicles and investment activities',\n",
       " 'all other financial investment activities',\n",
       " 'lessors of nonfinancial intangible assets (except copyrighted works)']"
      ]
     },
     "execution_count": 110,
     "metadata": {},
     "output_type": "execute_result"
    }
   ],
   "source": [
    "[x for x in industry_name_list if 'financial' in x]"
   ]
  },
  {
   "cell_type": "code",
   "execution_count": 111,
   "metadata": {},
   "outputs": [
    {
     "data": {
      "text/plain": [
       "['health and personal care retailers',\n",
       " 'other health and personal care retailers',\n",
       " 'food (health) supplement retailers',\n",
       " 'all other health and personal care retailers',\n",
       " 'direct life, health, and medical insurance carriers',\n",
       " 'direct insurance (except life, health, and medical) carriers',\n",
       " 'direct title insurance and other direct insurance (except life, health, and medical) carriers',\n",
       " 'home health equipment rental',\n",
       " 'private education and health services',\n",
       " 'health care and social assistance',\n",
       " 'health care',\n",
       " 'ambulatory health care services',\n",
       " 'offices of physicians (except mental health specialists)',\n",
       " 'offices of physicians, mental health specialists',\n",
       " 'offices of other health practitioners',\n",
       " 'offices of mental health practitioners (except physicians)',\n",
       " 'offices of all other health practitioners',\n",
       " 'offices of all other miscellaneous health practitioners',\n",
       " 'outpatient mental health and substance abuse centers',\n",
       " 'home health care services',\n",
       " 'other ambulatory health care services',\n",
       " 'all other ambulatory health care services',\n",
       " 'all other miscellaneous ambulatory health care services',\n",
       " 'residential intellectual and developmental disability, mental health, and substance abuse facilities',\n",
       " 'residential mental health and substance abuse facilities',\n",
       " 'voluntary health organizations']"
      ]
     },
     "execution_count": 111,
     "metadata": {},
     "output_type": "execute_result"
    }
   ],
   "source": [
    "[x for x in industry_name_list if 'health' in x]"
   ]
  },
  {
   "cell_type": "code",
   "execution_count": 112,
   "metadata": {},
   "outputs": [],
   "source": [
    "def get_filepath(series_id, startyear, endyear, value_col_name):\n",
    "    filepath = filepath = f'./data/{series_id[0]}_{startyear}_{endyear}_{value_col_name}.txt'\n",
    "    return filepath\n",
    "\n",
    "def format_data(filepath, value_col_name):\n",
    "    df = pd.read_csv(filepath, delimiter='|', header=1)\n",
    "    # clean up and format data frame\n",
    "    df = df.drop(0, axis=0)\n",
    "    df = df.drop(df[df['Unnamed: 0'].notnull()].index, axis=0)  # odd cell divider line\n",
    "    df = df.drop(['Unnamed: 0', 'Unnamed: 6'], axis=1)\n",
    "    df.columns = df.columns.str.strip()\n",
    "    df.columns = df.columns.str.replace(' ', '_')\n",
    "    df.year = df.year.astype('int')\n",
    "    df[\"date\"] = pd.to_datetime(df['year'].astype(str) + '-' + df['period'].str.replace('M', '') + '-01')\n",
    "    df.rename(columns={'value': value_col_name}, inplace=True)\n",
    "    return df\n",
    "\n",
    "def pull_data(series_id, startyear, endyear, value_col_name):\n",
    "    filepath = get_filepath(series_id, startyear, endyear, value_col_name)\n",
    "    headers = {'Content-type': 'application/json'}\n",
    "    data = json.dumps({\"seriesid\": series_id, \"startyear\": startyear, \"endyear\": endyear})\n",
    "    p = requests.post('https://api.bls.gov/publicAPI/v1/timeseries/data/', data=data, headers=headers)\n",
    "    json_data = json.loads(p.text)\n",
    "    pprint.pprint(json_data)\n",
    "    for series in json_data['Results']['series']:\n",
    "        x=prettytable.PrettyTable([\"series id\",\"year\",\"period\",\"value\",\"footnotes\"])\n",
    "        seriesId = series['seriesID']\n",
    "        for item in series['data']:\n",
    "            year = item['year']\n",
    "            period = item['period']\n",
    "            value = item['value']\n",
    "            footnotes = \"\"\n",
    "            for footnote in item['footnotes']:\n",
    "                if footnote:\n",
    "                    footnotes = footnotes + footnote['text'] + ','\n",
    "            if 'M01' <= period <= 'M12':\n",
    "                x.add_row([seriesId, year, period, value, footnotes[0:-1]])\n",
    "        output = open(filepath, 'w')\n",
    "        output.write (x.get_string())\n",
    "        output.close()\n",
    "        df = format_data(filepath, value_col_name)\n",
    "        return df"
   ]
  },
  {
   "cell_type": "code",
   "execution_count": 113,
   "metadata": {},
   "outputs": [],
   "source": [
    "# these values will be used for all data pulls\n",
    "startyear = '2020'\n",
    "endyear = '2024'"
   ]
  },
  {
   "cell_type": "code",
   "execution_count": 114,
   "metadata": {},
   "outputs": [
    {
     "data": {
      "text/html": [
       "<div>\n",
       "<style scoped>\n",
       "    .dataframe tbody tr th:only-of-type {\n",
       "        vertical-align: middle;\n",
       "    }\n",
       "\n",
       "    .dataframe tbody tr th {\n",
       "        vertical-align: top;\n",
       "    }\n",
       "\n",
       "    .dataframe thead th {\n",
       "        text-align: right;\n",
       "    }\n",
       "</style>\n",
       "<table border=\"1\" class=\"dataframe\">\n",
       "  <thead>\n",
       "    <tr style=\"text-align: right;\">\n",
       "      <th></th>\n",
       "      <th>series_id</th>\n",
       "      <th>year</th>\n",
       "      <th>period</th>\n",
       "      <th>avg_hourly_wage</th>\n",
       "      <th>footnotes</th>\n",
       "      <th>date</th>\n",
       "    </tr>\n",
       "  </thead>\n",
       "  <tbody>\n",
       "    <tr>\n",
       "      <th>1</th>\n",
       "      <td>CEU5051320003</td>\n",
       "      <td>2024</td>\n",
       "      <td>M01</td>\n",
       "      <td>60.42</td>\n",
       "      <td>preliminary</td>\n",
       "      <td>2024-01-01</td>\n",
       "    </tr>\n",
       "    <tr>\n",
       "      <th>2</th>\n",
       "      <td>CEU5051320003</td>\n",
       "      <td>2023</td>\n",
       "      <td>M12</td>\n",
       "      <td>60.71</td>\n",
       "      <td></td>\n",
       "      <td>2023-12-01</td>\n",
       "    </tr>\n",
       "    <tr>\n",
       "      <th>3</th>\n",
       "      <td>CEU5051320003</td>\n",
       "      <td>2023</td>\n",
       "      <td>M11</td>\n",
       "      <td>60.40</td>\n",
       "      <td></td>\n",
       "      <td>2023-11-01</td>\n",
       "    </tr>\n",
       "    <tr>\n",
       "      <th>4</th>\n",
       "      <td>CEU5051320003</td>\n",
       "      <td>2023</td>\n",
       "      <td>M10</td>\n",
       "      <td>61.05</td>\n",
       "      <td></td>\n",
       "      <td>2023-10-01</td>\n",
       "    </tr>\n",
       "    <tr>\n",
       "      <th>5</th>\n",
       "      <td>CEU5051320003</td>\n",
       "      <td>2023</td>\n",
       "      <td>M09</td>\n",
       "      <td>59.10</td>\n",
       "      <td></td>\n",
       "      <td>2023-09-01</td>\n",
       "    </tr>\n",
       "  </tbody>\n",
       "</table>\n",
       "</div>"
      ],
      "text/plain": [
       "         series_id  year    period  avg_hourly_wage      footnotes       date\n",
       "1   CEU5051320003   2024    M01               60.42   preliminary  2024-01-01\n",
       "2   CEU5051320003   2023    M12               60.71                2023-12-01\n",
       "3   CEU5051320003   2023    M11               60.40                2023-11-01\n",
       "4   CEU5051320003   2023    M10               61.05                2023-10-01\n",
       "5   CEU5051320003   2023    M09               59.10                2023-09-01"
      ]
     },
     "execution_count": 114,
     "metadata": {},
     "output_type": "execute_result"
    }
   ],
   "source": [
    "# only need to run this to pull in new data\n",
    "# pull_data(['CUUR0000SA0','SUUR0000SA0'], '2011', '2014')\n",
    "prefix_code = 'CE'  # current employment\n",
    "seasonal_adj_code = 'U'  # not seasonally adjusted\n",
    "supersector_code = ''  # private service-providing\n",
    "industry_code = '50513200'  # Total nonfarm\n",
    "data_type = '03'  # average hourly earnings of all employees\n",
    "combined_id = prefix_code + seasonal_adj_code + supersector_code + industry_code + data_type\n",
    "series_id = [combined_id]  # 'CEU0800000003'\n",
    "value_col_name = 'avg_hourly_wage'\n",
    "\n",
    "# pull data using api\n",
    "# df_avg_hourly = pull_data(series_id, startyear, endyear, value_col_name)\n",
    "\n",
    "# pull data using files\n",
    "filepath = get_filepath(series_id, startyear, endyear, value_col_name)\n",
    "df_avg_hourly = format_data(filepath, value_col_name)\n",
    "df_avg_hourly.head()"
   ]
  },
  {
   "cell_type": "code",
   "execution_count": 115,
   "metadata": {},
   "outputs": [
    {
     "data": {
      "text/plain": [
       "<Axes: xlabel='date'>"
      ]
     },
     "execution_count": 115,
     "metadata": {},
     "output_type": "execute_result"
    },
    {
     "data": {
      "image/png": "[encoded data removed]",
      "text/plain": [
       "<Figure size 640x480 with 1 Axes>"
      ]
     },
     "metadata": {},
     "output_type": "display_data"
    }
   ],
   "source": [
    "df_avg_hourly.plot(x='date', y='avg_hourly_wage')"
   ]
  },
  {
   "cell_type": "code",
   "execution_count": 116,
   "metadata": {},
   "outputs": [
    {
     "data": {
      "text/html": [
       "<div>\n",
       "<style scoped>\n",
       "    .dataframe tbody tr th:only-of-type {\n",
       "        vertical-align: middle;\n",
       "    }\n",
       "\n",
       "    .dataframe tbody tr th {\n",
       "        vertical-align: top;\n",
       "    }\n",
       "\n",
       "    .dataframe thead th {\n",
       "        text-align: right;\n",
       "    }\n",
       "</style>\n",
       "<table border=\"1\" class=\"dataframe\">\n",
       "  <thead>\n",
       "    <tr style=\"text-align: right;\">\n",
       "      <th></th>\n",
       "      <th>series_id</th>\n",
       "      <th>year</th>\n",
       "      <th>period</th>\n",
       "      <th>employee_count</th>\n",
       "      <th>footnotes</th>\n",
       "      <th>date</th>\n",
       "    </tr>\n",
       "  </thead>\n",
       "  <tbody>\n",
       "    <tr>\n",
       "      <th>1</th>\n",
       "      <td>CEU5051320001</td>\n",
       "      <td>2024</td>\n",
       "      <td>M01</td>\n",
       "      <td>645.0</td>\n",
       "      <td>preliminary</td>\n",
       "      <td>2024-01-01</td>\n",
       "    </tr>\n",
       "    <tr>\n",
       "      <th>2</th>\n",
       "      <td>CEU5051320001</td>\n",
       "      <td>2023</td>\n",
       "      <td>M12</td>\n",
       "      <td>653.0</td>\n",
       "      <td></td>\n",
       "      <td>2023-12-01</td>\n",
       "    </tr>\n",
       "    <tr>\n",
       "      <th>3</th>\n",
       "      <td>CEU5051320001</td>\n",
       "      <td>2023</td>\n",
       "      <td>M11</td>\n",
       "      <td>648.5</td>\n",
       "      <td></td>\n",
       "      <td>2023-11-01</td>\n",
       "    </tr>\n",
       "    <tr>\n",
       "      <th>4</th>\n",
       "      <td>CEU5051320001</td>\n",
       "      <td>2023</td>\n",
       "      <td>M10</td>\n",
       "      <td>649.6</td>\n",
       "      <td></td>\n",
       "      <td>2023-10-01</td>\n",
       "    </tr>\n",
       "    <tr>\n",
       "      <th>5</th>\n",
       "      <td>CEU5051320001</td>\n",
       "      <td>2023</td>\n",
       "      <td>M09</td>\n",
       "      <td>667.2</td>\n",
       "      <td></td>\n",
       "      <td>2023-09-01</td>\n",
       "    </tr>\n",
       "  </tbody>\n",
       "</table>\n",
       "</div>"
      ],
      "text/plain": [
       "         series_id  year    period  employee_count      footnotes       date\n",
       "1   CEU5051320001   2024    M01              645.0   preliminary  2024-01-01\n",
       "2   CEU5051320001   2023    M12              653.0                2023-12-01\n",
       "3   CEU5051320001   2023    M11              648.5                2023-11-01\n",
       "4   CEU5051320001   2023    M10              649.6                2023-10-01\n",
       "5   CEU5051320001   2023    M09              667.2                2023-09-01"
      ]
     },
     "execution_count": 116,
     "metadata": {},
     "output_type": "execute_result"
    }
   ],
   "source": [
    "prefix_code = 'CE'  # current employment\n",
    "seasonal_adj_code = 'U'  # not seasonally adjusted\n",
    "supersector_code = ''  # private service-providing\n",
    "industry_code = '50513200'  # software publishers\n",
    "data_type = '01'  # all employees, thousands\n",
    "combined_id = prefix_code + seasonal_adj_code + supersector_code + industry_code + data_type\n",
    "series_id = [combined_id]  # 'CEU0800000003'\n",
    "value_col_name = 'employee_count'\n",
    "\n",
    "# pull data using API\n",
    "# df_emp_count = pull_data(series_id, startyear, endyear, value_col_name)\n",
    "\n",
    "# pull data using files\n",
    "filepath = get_filepath(series_id, startyear, endyear, value_col_name)\n",
    "df_emp_count = format_data(filepath, value_col_name)\n",
    "df_emp_count.head()"
   ]
  },
  {
   "cell_type": "code",
   "execution_count": 117,
   "metadata": {},
   "outputs": [
    {
     "data": {
      "text/plain": [
       "<Axes: xlabel='date'>"
      ]
     },
     "execution_count": 117,
     "metadata": {},
     "output_type": "execute_result"
    },
    {
     "data": {
      "image/png": "[encoded data removed]",
      "text/plain": [
       "<Figure size 640x480 with 1 Axes>"
      ]
     },
     "metadata": {},
     "output_type": "display_data"
    }
   ],
   "source": [
    "df_emp_count.plot(x='date', y='employee_count')"
   ]
  },
  {
   "cell_type": "code",
   "execution_count": null,
   "metadata": {},
   "outputs": [],
   "source": []
  }
 ],
 "metadata": {
  "kernelspec": {
   "display_name": "ai",
   "language": "python",
   "name": "python3"
  },
  "language_info": {
   "codemirror_mode": {
    "name": "ipython",
    "version": 3
   },
   "file_extension": ".py",
   "mimetype": "text/x-python",
   "name": "python",
   "nbconvert_exporter": "python",
   "pygments_lexer": "ipython3",
   "version": "3.10.13"
  }
 },
 "nbformat": 4,
 "nbformat_minor": 2
}
